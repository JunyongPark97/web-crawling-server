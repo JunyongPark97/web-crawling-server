{
 "cells": [
  {
   "cell_type": "code",
   "execution_count": 1,
   "metadata": {},
   "outputs": [],
   "source": [
    "from urllib.request import urlopen\n",
    "from urllib import error\n",
    "from requests.exceptions import ConnectionError\n",
    "from urllib3.exceptions import NewConnectionError, MaxRetryError\n",
    "from bs4 import BeautifulSoup\n",
    "import time"
   ]
  },
  {
   "cell_type": "code",
   "execution_count": 2,
   "metadata": {},
   "outputs": [],
   "source": [
    "def _66girls_info_crawler(product_url):\n",
    "    if product_url.startswith('https://m.') or product_url.startswith('m.'):\n",
    "        product_url = product_url.split('.')[1:]\n",
    "        new_product_url = ''\n",
    "        for i in range(len(product_url)):\n",
    "            new_product_url = new_product_url + product_url[i] + '.'\n",
    "        new_product_url = 'https://' + new_product_url\n",
    "    else:\n",
    "        new_product_url = product_url\n",
    "    try:\n",
    "        html = urlopen(new_product_url)\n",
    "        source = BeautifulSoup(html, 'html.parser')\n",
    "\n",
    "        # 이미지 detail source 정보 추출하기\n",
    "        url_list = []\n",
    "        detail_list = source.select('div.cont_detail')[0].select('img')\n",
    "        for i in range(len(detail_list)):\n",
    "            url_list.append('http://66girls.co.kr' + detail_list[i]['src'])\n",
    "\n",
    "        # 서버 과부하를 위해 2s 간 멈춤\n",
    "        time.sleep(2)\n",
    "    except (ConnectionResetError, error.URLError, error.HTTPError, ConnectionRefusedError,\n",
    "            ConnectionError, NewConnectionError, MaxRetryError):\n",
    "        print(\"Connection Error\")\n",
    "    return url_list"
   ]
  },
  {
   "cell_type": "code",
   "execution_count": 19,
   "metadata": {},
   "outputs": [
    {
     "name": "stdout",
     "output_type": "stream",
     "text": [
      "http://66girls.co.kr/2021/1JAN/4/2100127-ah-2%20(1).jpg\n",
      "http://66girls.co.kr/2021/1JAN/0131tt_01.jpg\n",
      "http://66girls.co.kr/2021/1JAN/0131tt_012.jpg\n",
      "http://66girls.co.kr/2021/1JAN/0131tt_0123.jpg\n",
      "http://66girls.co.kr/2021/1JAN/0131tt_01234.jpg\n",
      "http://66girls.co.kr/2021/1JAN/0131tt_1.jpg\n",
      "http://66girls.co.kr/2021/1JAN/0131tt_12.jpg\n",
      "http://66girls.co.kr/2021/1JAN/0131tt_123.jpg\n",
      "http://66girls.co.kr/2021/1JAN/0131tt_1234.jpg\n",
      "http://66girls.co.kr/2021/1JAN/0131tt_12345.jpg\n",
      "http://66girls.co.kr/2021/1JAN/0131tt_123456.jpg\n",
      "http://66girls.co.kr/2021/1JAN/0131tt_1234567.jpg\n",
      "http://66girls.co.kr/2021/1JAN/0131tt_12345678.jpg\n",
      "http://66girls.co.kr/2021/1JAN/0131tt_123456789.jpg\n",
      "http://66girls.co.kr/2021/1JAN/0131tt_1234567890.jpg\n",
      "http://66girls.co.kr/2021/1JAN/0131tt_12345678901.jpg\n",
      "http://66girls.co.kr/2021/1JAN/0131tt_123456789012.jpg\n",
      "http://66girls.co.kr/2021/1JAN/0131tt_1234567890123.jpg\n",
      "http://66girls.co.kr/2021/1JAN/0131tt_12345678901234.jpg\n",
      "http://66girls.co.kr/2021/1JAN/0131tt_123456789012345.jpg\n",
      "http://66girls.co.kr/2021/1JAN/0131tt_1234567890123456.jpg\n",
      "http://66girls.co.kr/2021/1JAN/0131tt_12345678901234567.jpg\n",
      "http://66girls.co.kr/2021/1JAN/0131tt_123456789012345678.jpg\n",
      "http://66girls.co.kr/2021/1JAN/0131tt_1234567890123456789.jpg\n",
      "http://66girls.co.kr/2021/1JAN/0131tt_12345678901234567890.jpg\n",
      "http://66girls.co.kr/2021/1JAN/0131tt_123456789012345678901.jpg\n",
      "http://66girls.co.kr/2021/1JAN/0131tt_1234567890123456789012.jpg\n",
      "http://66girls.co.kr/2021/1JAN/4/2100127-ah-2%20(33).jpg\n"
     ]
    }
   ],
   "source": [
    "from PIL import Image\n",
    "url_list = _66girls_info_crawler('https://66girls.co.kr/product/detail.html?product_no=111323&cate_no=119&display_group=1')\n",
    "for i in range(len(url_list)):\n",
    "    url = url_list[i].replace(\" \", \"%20\")\n",
    "    print(url)\n",
    "    try:\n",
    "        im = Image.open(urlopen(url))\n",
    "        im.save('data17/test_{}.jpg'.format(i))\n",
    "    except:\n",
    "        print(url_list[i])\n",
    "        print(\"error\")\n"
   ]
  }
 ],
 "metadata": {
  "kernelspec": {
   "display_name": "Python 3",
   "language": "python",
   "name": "python3"
  },
  "language_info": {
   "codemirror_mode": {
    "name": "ipython",
    "version": 3
   },
   "file_extension": ".py",
   "mimetype": "text/x-python",
   "name": "python",
   "nbconvert_exporter": "python",
   "pygments_lexer": "ipython3",
   "version": "3.7.4"
  }
 },
 "nbformat": 4,
 "nbformat_minor": 2
}
