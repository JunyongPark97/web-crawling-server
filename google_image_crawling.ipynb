{
 "cells": [
  {
   "cell_type": "code",
   "execution_count": 1,
   "metadata": {},
   "outputs": [],
   "source": [
    "from google_images_download import google_images_download"
   ]
  },
  {
   "cell_type": "code",
   "execution_count": 2,
   "metadata": {},
   "outputs": [],
   "source": [
    "def imageCrawling(keyword, dir):\n",
    "    response = google_images_download.googleimagesdownload()\n",
    "    \n",
    "    arguments = {\"keywords\": keyword,\n",
    "                 \"limit\": 200,\n",
    "                 \"print_urls\": False,\n",
    "                 \"no_directory\": True,\n",
    "                 \"chromedriver\": \"/Users/eren-shin/Desktop/handbag_crawler_for_training/chromedriver\",\n",
    "                 \"output_directory\": dir}\n",
    "    \n",
    "    paths = response.download(arguments)\n",
    "    print(paths)"
   ]
  },
  {
   "cell_type": "code",
   "execution_count": null,
   "metadata": {},
   "outputs": [
    {
     "name": "stdout",
     "output_type": "stream",
     "text": [
      "\n",
      "Item no.: 1 --> Item name = circle bag\n",
      "Evaluating...\n",
      "Getting you a lot of images. This may take a few moments...\n",
      "Reached end of Page.\n",
      "Starting Download...\n",
      "Completed Image ====> 1.circcbag-st-bla-go-1-gza-01.jpg\n",
      "Completed Image ====> 2.71N7IpROg8L._SX425_.jpg\n",
      "Completed Image ====> 3.900_2018-02-26_sm18_pow10887.jpg\n",
      "Completed Image ====> 4.00302577-04.jpg\n",
      "Completed Image ====> 5.P229_Fausset_Mushroom__20318.1550514054.jpg\n",
      "Completed Image ====> 6.Circle_Bag_Calf_Coated_Grey_Blue_Detail_1_180731_grande.jpg\n",
      "Invalid or missing image format. Skipping...\n",
      "Completed Image ====> 7.TAH_Circle_Bag_Mini__18655.1564625674.JPG\n",
      "Completed Image ====> 8.P00312098.jpg\n",
      "Completed Image ====> 9.900_2017-12-11_sp18_pow0487.jpg\n",
      "Completed Image ====> 10.burgundy-mini-circle-bag.jpg\n"
     ]
    }
   ],
   "source": [
    "imageCrawling(\"circle bag\", '/Users/eren-shin/Desktop/handbag_crawler_for_training/circle_bag/')"
   ]
  },
  {
   "cell_type": "code",
   "execution_count": 4,
   "metadata": {},
   "outputs": [
    {
     "name": "stdout",
     "output_type": "stream",
     "text": [
      "\n",
      "Item no.: 1 --> Item name = backpack\n",
      "Evaluating...\n",
      "Looks like we cannot locate the path the 'chromedriver' (use the '--chromedriver' argument to specify the path to the executable.) or google chrome browser is not installed on your machine (exception: expected str, bytes or os.PathLike object, not NoneType)\n"
     ]
    },
    {
     "ename": "SystemExit",
     "evalue": "",
     "output_type": "error",
     "traceback": [
      "An exception has occurred, use %tb to see the full traceback.\n",
      "\u001b[0;31mSystemExit\u001b[0m\n"
     ]
    }
   ],
   "source": [
    "imageCrawling(\"backpack\", '/Users/eren-shin/Desktop/handbag_crawler_for_training/backpack/')"
   ]
  },
  {
   "cell_type": "code",
   "execution_count": null,
   "metadata": {},
   "outputs": [],
   "source": [
    "imageCrawling(\"half circle bag\", '/Users/eren-shin/Desktop/handbag_crawler_for_training/half_circle_bag/')"
   ]
  }
 ],
 "metadata": {
  "kernelspec": {
   "display_name": "Python 3",
   "language": "python",
   "name": "python3"
  },
  "language_info": {
   "codemirror_mode": {
    "name": "ipython",
    "version": 3
   },
   "file_extension": ".py",
   "mimetype": "text/x-python",
   "name": "python",
   "nbconvert_exporter": "python",
   "pygments_lexer": "ipython3",
   "version": "3.7.4"
  }
 },
 "nbformat": 4,
 "nbformat_minor": 2
}
