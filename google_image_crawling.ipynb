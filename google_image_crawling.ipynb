{
 "cells": [
  {
   "cell_type": "code",
   "execution_count": 2,
   "metadata": {},
   "outputs": [],
   "source": [
    "from google_images_download import google_images_download"
   ]
  },
  {
   "cell_type": "code",
   "execution_count": 11,
   "metadata": {},
   "outputs": [],
   "source": [
    "def imageCrawling(keyword, dir):\n",
    "    response = google_images_download.googleimagesdownload()\n",
    "    \n",
    "    arguments = {\"keywords\": keyword,\n",
    "                 \"limit\": 250,\n",
    "                 \"print_urls\": True,\n",
    "                 \"no_directory\": True,\n",
    "                 \"output_directory\": dir}\n",
    "    \n",
    "    paths = response.download(arguments)\n",
    "    print(paths)"
   ]
  },
  {
   "cell_type": "code",
   "execution_count": 12,
   "metadata": {},
   "outputs": [
    {
     "name": "stdout",
     "output_type": "stream",
     "text": [
      "\n",
      "Item no.: 1 --> Item name = circle bag\n",
      "Evaluating...\n",
      "Starting Download...\n",
      "Image URL: https://images-na.ssl-images-amazon.com/images/I/71N7IpROg8L._SX425_.jpg\n",
      "Completed Image ====> 1.71N7IpROg8L._SX425_.jpg\n",
      "Image URL: https://cdn.shopify.com/s/files/1/0352/7949/products/Circle_Bag_Vegetable_Tanned_Black_Detail_1_90b1e705-fc72-44a7-8ed0-06319e224aa7_grande.jpg?v=1565677567\n",
      "Completed Image ====> 2.Circle_Bag_Vegetable_Tanned_Black_Detail_1_90b1e705-fc72-44a7-8ed0-06319e224aa7_grande.jpg\n",
      "\n",
      "Errors: 0\n",
      "\n",
      "({'circle bag': ['/Users/eren-shin/Desktop/handbag_crawler_for_training/circle_bag/1.71N7IpROg8L._SX425_.jpg', '/Users/eren-shin/Desktop/handbag_crawler_for_training/circle_bag/2.Circle_Bag_Vegetable_Tanned_Black_Detail_1_90b1e705-fc72-44a7-8ed0-06319e224aa7_grande.jpg']}, 0)\n"
     ]
    }
   ],
   "source": [
    "imageCrawling(\"circle bag\", '/Users/eren-shin/Desktop/handbag_crawler_for_training/circle_bag/')"
   ]
  },
  {
   "cell_type": "code",
   "execution_count": null,
   "metadata": {},
   "outputs": [],
   "source": [
    "imageCrawling(\"backpack\", '/Users/eren-shin/Desktop/handbag_crawler_for_training/backpack/')"
   ]
  },
  {
   "cell_type": "code",
   "execution_count": null,
   "metadata": {},
   "outputs": [],
   "source": [
    "imageCrawling(\"half circle bag\", '/Users/eren-shin/Desktop/handbag_crawler_for_training/half_circle_bag/')"
   ]
  }
 ],
 "metadata": {
  "kernelspec": {
   "display_name": "Python 3",
   "language": "python",
   "name": "python3"
  },
  "language_info": {
   "codemirror_mode": {
    "name": "ipython",
    "version": 3
   },
   "file_extension": ".py",
   "mimetype": "text/x-python",
   "name": "python",
   "nbconvert_exporter": "python",
   "pygments_lexer": "ipython3",
   "version": "3.7.4"
  }
 },
 "nbformat": 4,
 "nbformat_minor": 2
}
